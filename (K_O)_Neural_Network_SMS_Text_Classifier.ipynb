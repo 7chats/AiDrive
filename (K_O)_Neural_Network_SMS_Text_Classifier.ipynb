{
  "nbformat": 4,
  "nbformat_minor": 0,
  "metadata": {
    "colab": {
      "private_outputs": true,
      "provenance": [],
      "authorship_tag": "ABX9TyO9dtGcI/C7ZSuPmQVvftyn",
      "include_colab_link": true
    },
    "kernelspec": {
      "name": "python3",
      "display_name": "Python 3"
    },
    "language_info": {
      "name": "python"
    }
  },
  "cells": [
    {
      "cell_type": "markdown",
      "metadata": {
        "id": "view-in-github",
        "colab_type": "text"
      },
      "source": [
        "<a href=\"https://colab.research.google.com/github/AiDriveOne/AiDrive/blob/main/(K_O)_Neural_Network_SMS_Text_Classifier.ipynb\" target=\"_parent\"><img src=\"https://colab.research.google.com/assets/colab-badge.svg\" alt=\"Open In Colab\"/></a>"
      ]
    },
    {
      "cell_type": "code",
      "source": [
        "# Import necessary libraries\n",
        "import tensorflow as tf\n",
        "import pandas as pd\n",
        "import numpy as np\n",
        "import matplotlib.pyplot as plt\n",
        "import tensorflow_datasets as tfds\n",
        "\n",
        "# Check TensorFlow version\n",
        "print(tf.__version__)\n",
        "\n",
        "# Install TensorFlow Nightly\n",
        "# (uncomment the following lines if running in Google Colab)\n",
        "# try:\n",
        "#     !pip install tf-nightly\n",
        "# except Exception:\n",
        "#     pass\n",
        "\n",
        "# Install TensorFlow Datasets\n",
        "!pip install tensorflow-datasets\n",
        "\n",
        "# Import Keras from TensorFlow\n",
        "from tensorflow import keras"
      ],
      "metadata": {
        "id": "7ktK2VOq-Wmk"
      },
      "execution_count": null,
      "outputs": []
    },
    {
      "cell_type": "code",
      "source": [
        "# Download training and test data files\n",
        "!wget https://cdn.freecodecamp.org/project-data/sms/train-data.tsv\n",
        "!wget https://cdn.freecodecamp.org/project-data/sms/valid-data.tsv\n",
        "\n",
        "# Set file paths to the downloaded data files\n",
        "train_file_path = \"train-data.tsv\"\n",
        "test_file_path = \"valid-data.tsv\""
      ],
      "metadata": {
        "id": "8IBeiOYz-b_5"
      },
      "execution_count": null,
      "outputs": []
    },
    {
      "cell_type": "code",
      "source": [
        "import os\n",
        "\n",
        "cwd = os.getcwd()  # Get the current working directory (cwd)\n",
        "files = os.listdir(cwd)  # Get all the files in that directory\n",
        "print(\"Files in %r: %s\" % (cwd, files))"
      ],
      "metadata": {
        "id": "EpdbWPkgBFYV"
      },
      "execution_count": null,
      "outputs": []
    }
  ]
}